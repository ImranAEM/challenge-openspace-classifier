{
 "cells": [
  {
   "cell_type": "markdown",
   "id": "46ccd25f",
   "metadata": {},
   "source": [
    "# Open Space Organizer\n",
    "\n",
    "We want to create a program that assigns 24 people to 6 tables in an openspace. Before getting started, take inventory what do we need:\n",
    "\n",
    "- People\n",
    "- Seats & Tables\n",
    "- An OpenSpace\n",
    "\n",
    "It's a good practice to start simple while you grasp the logic of the program you are trying to build and test often. For us this can translate to,\n",
    "\n",
    "- People -> List of Names (later we can figure out how to use a file)\n",
    "- Seats & Tables -> Class\n",
    "- An OpenSpace -> Class\n",
    "\n",
    "Below I've created a list of your new colleagues for reference!"
   ]
  },
  {
   "cell_type": "code",
   "execution_count": null,
   "id": "d2272fa0",
   "metadata": {},
   "outputs": [],
   "source": [
    "new_collegues = [\"Aleksei\",\"Amine\",\"Anna\",\"Astha\",\"Brigitta\",\n",
    "                 \"Bryan\",\"Ena\",\"Esra\",\"Faranges\",\"Frédéric\",\n",
    "                 \"Hamideh\",\"Héloïse\",\"Imran\",\"Intan K.\",\n",
    "                 \"Jens\",\"Kristin\",\"Michiel\",\"Nancy\",\"Pierrick\",\n",
    "                 \"Sandrine\",\"Tim\",\"Viktor\",\"Welederufeal\",\"Živile\"]"
   ]
  },
  {
   "cell_type": "markdown",
   "id": "5331eef9",
   "metadata": {},
   "source": [
    "## Step 1: Build a Seat\n",
    "\n",
    "Create a class called `Seat` with two attributes:\n",
    "\n",
    "- `free` which is a boolean.\n",
    "- `occupant` which is a string.\n",
    "\n",
    "and 2 functions : \n",
    "\n",
    "- `set_occupant(name)` which allows the program to assign someone a seat if it's free\n",
    "- `remove_occupant()` which  remove someone from a seat and return the name of the person occupying the seat before\n"
   ]
  },
  {
   "cell_type": "code",
   "execution_count": 20,
   "id": "b2206876",
   "metadata": {},
   "outputs": [],
   "source": [
    "# Your code here\n",
    "\n",
    "class Seat:\n",
    "\n",
    "    def __init__(self):\n",
    "        self.free = True\n",
    "        self.occupant = \"\"\n",
    "        \n",
    "\n",
    "    def set_occupant(self, name):\n",
    "        if self.free:\n",
    "            self.occupant = name\n",
    "            print(f\"The seat has been asigned to {self.occupant}\")\n",
    "            self.free = False\n",
    "        else:\n",
    "            print(\"Sorry, the seat is not available\")\n",
    "\n",
    "\n",
    "    def remove_occupant(self):\n",
    "        if self.free == False:\n",
    "            self.occupant = \"\"\n",
    "            self.free = True\n",
    "        \n",
    "        else:\n",
    "            print(\"The room is empty\")\n"
   ]
  },
  {
   "cell_type": "code",
   "execution_count": 21,
   "id": "97ec69ff",
   "metadata": {},
   "outputs": [
    {
     "name": "stdout",
     "output_type": "stream",
     "text": [
      "The seat has been asigned to Imran\n"
     ]
    }
   ],
   "source": [
    "# Test your code (assign yourself you a Seat)\n",
    "\n",
    "seats = Seat()\n",
    "\n",
    "seats.set_occupant(\"Imran\")\n",
    "\n",
    "#seats.set_occupant(\"Astha\")\n",
    "#seats.remove_occupant()\n",
    "\n",
    "#seats.set_occupant(\"Jon\")\n",
    "\n",
    "\n",
    "\n",
    "\n"
   ]
  },
  {
   "cell_type": "markdown",
   "id": "12d6834f",
   "metadata": {},
   "source": [
    "What is the input and the output of your Seat class? Does it make sense?\n",
    "\n",
    "## Step 2: Build a Table\n",
    "\n",
    "Create a class `Table` with ? attributes:\n",
    "\n",
    "- `capacity` which is an integer\n",
    "- `seats` which is a list of `Seat` objects (size = `capacity`)\n",
    "\n",
    "and 3 functions : \n",
    "- `has_free_spot()` that returns a boolean (True if a spot is available)\n",
    "- `assign_seat(name)` that places someone at the table\n",
    "- `left_capacity()` that returns an integer\n",
    "\n",
    "Question: Which attributes make sense to give? For now let's say we want to build 6 tables with 4 seats.\n"
   ]
  },
  {
   "cell_type": "code",
   "execution_count": 26,
   "id": "d64b76c8",
   "metadata": {},
   "outputs": [],
   "source": [
    "# Your code here\n",
    "\n",
    "class Table:\n",
    "    def __init__(self, capacity):\n",
    "        self.capacity = capacity # Capacity for 4 seats each table\n",
    "        self.seats = []\n",
    "\n",
    "        # Create Seats inside of the list (seats in the table)\n",
    "        for i in range(capacity):\n",
    "            self.seats.append(Seat()) \n",
    "\n",
    "            '''Now we have seats = [Seat(),Seat(),Seat(),Seat()]\n",
    "            We have created 4 seats in the table and then we have to go one by one to check\n",
    "            to see which one is available and to assign it to a person'''\n",
    "\n",
    "\n",
    "\n",
    "    def has_free_spot(self):\n",
    "        if self.free == True: \n",
    "            #print(\"There is a spot available\")\n",
    "            return True\n",
    "        else:\n",
    "            #print(\"There is not a spot available\")\n",
    "            return False\n",
    "        \n",
    "\n",
    "\n",
    "    def assign_seat(self, name):\n",
    "        for i in self.seats:\n",
    "            if i.free == True:\n",
    "                i.set_occupant(name)\n",
    "                print(f\"The seat has been assigned to {name}\")\n",
    "                break\n",
    "            else:\n",
    "                return False\n",
    "    \n",
    "\n",
    "\n",
    "    def left_capacity(self):\n",
    "        counter = 0\n",
    "        for i in self.seats:\n",
    "            if i.free == True:\n",
    "                counter += 1\n",
    "        return counter\n",
    "    \n",
    "    "
   ]
  },
  {
   "cell_type": "code",
   "execution_count": 27,
   "id": "108ce578",
   "metadata": {},
   "outputs": [
    {
     "data": {
      "text/plain": [
       "4"
      ]
     },
     "execution_count": 27,
     "metadata": {},
     "output_type": "execute_result"
    }
   ],
   "source": [
    "# Test your code (assign the colleagues at your table to a Table)\n",
    "\n",
    "tabla = Table(4)\n",
    "\n",
    "tabla.left_capacity()\n",
    "#abla.assign_seat(\"Imran\")\n",
    "\n",
    "\n",
    "\n",
    "\n",
    "\n",
    "\n"
   ]
  },
  {
   "cell_type": "markdown",
   "id": "75f177c6",
   "metadata": {},
   "source": [
    "Does the output of you test make sense? Check that each method returns the correct value."
   ]
  },
  {
   "cell_type": "markdown",
   "id": "5b395b9e",
   "metadata": {},
   "source": [
    "## Step 3: Build an OpenSpace\n",
    "\n",
    "Create a class `Openspace` that contains these attributes:\n",
    "\n",
    "- `tables` which is a list of `Table`. _(you will need to import `Table` from `table.py`)_. \n",
    "- `number_of_tables` which is an integer.\n",
    "\n",
    "And some methods:\n",
    "\n",
    "- `organize(names)` that will:\n",
    "  - **randomly** assign people to `Seat` objects in the different `Table` objects.\n",
    "- `display()` display the different tables and there occupants in a nice and readable way\n",
    "- `store(filename)` store the repartition in an file"
   ]
  },
  {
   "cell_type": "code",
   "execution_count": null,
   "id": "1eed7151",
   "metadata": {},
   "outputs": [],
   "source": [
    "# Your code here"
   ]
  },
  {
   "cell_type": "code",
   "execution_count": null,
   "id": "6c20824f",
   "metadata": {},
   "outputs": [],
   "source": [
    "# Test your code (assign everyone in the class to a table)"
   ]
  },
  {
   "cell_type": "markdown",
   "id": "0d3923a8",
   "metadata": {},
   "source": [
    "Hurray! You have the algorithm logic working. Next steps we transform this into some scripts! **Big note:** Once you move to the scrips you may need to adapt your logic, don't fret this is normal!"
   ]
  }
 ],
 "metadata": {
  "kernelspec": {
   "display_name": "Python 3",
   "language": "python",
   "name": "python3"
  },
  "language_info": {
   "codemirror_mode": {
    "name": "ipython",
    "version": 3
   },
   "file_extension": ".py",
   "mimetype": "text/x-python",
   "name": "python",
   "nbconvert_exporter": "python",
   "pygments_lexer": "ipython3",
   "version": "3.13.9"
  }
 },
 "nbformat": 4,
 "nbformat_minor": 5
}
